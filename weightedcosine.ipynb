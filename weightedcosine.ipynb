{
 "cells": [
  {
   "cell_type": "code",
   "execution_count": 1,
   "id": "fae1e5ff-cc33-4b5c-9254-7e0dd0fe04c2",
   "metadata": {},
   "outputs": [
    {
     "name": "stderr",
     "output_type": "stream",
     "text": [
      "/Users/samrath/Library/Python/3.9/lib/python/site-packages/urllib3/__init__.py:35: NotOpenSSLWarning: urllib3 v2 only supports OpenSSL 1.1.1+, currently the 'ssl' module is compiled with 'LibreSSL 2.8.3'. See: https://github.com/urllib3/urllib3/issues/3020\n",
      "  warnings.warn(\n"
     ]
    }
   ],
   "source": [
    "import pandas as pd\n",
    "\n",
    "passages = pd.read_parquet(\"hf://datasets/rag-datasets/rag-mini-bioasq/data/passages.parquet/part.0.parquet\")\n",
    "test = pd.read_parquet(\"hf://datasets/rag-datasets/rag-mini-bioasq/data/test.parquet/part.0.parquet\")"
   ]
  },
  {
   "cell_type": "code",
   "execution_count": 2,
   "id": "eb7d619a-e91c-43c9-b87c-f4368d9c8b8b",
   "metadata": {},
   "outputs": [
    {
     "data": {
      "text/html": [
       "<div>\n",
       "<style scoped>\n",
       "    .dataframe tbody tr th:only-of-type {\n",
       "        vertical-align: middle;\n",
       "    }\n",
       "\n",
       "    .dataframe tbody tr th {\n",
       "        vertical-align: top;\n",
       "    }\n",
       "\n",
       "    .dataframe thead th {\n",
       "        text-align: right;\n",
       "    }\n",
       "</style>\n",
       "<table border=\"1\" class=\"dataframe\">\n",
       "  <thead>\n",
       "    <tr style=\"text-align: right;\">\n",
       "      <th></th>\n",
       "      <th>question</th>\n",
       "      <th>answer</th>\n",
       "      <th>relevant_passage_ids</th>\n",
       "    </tr>\n",
       "    <tr>\n",
       "      <th>id</th>\n",
       "      <th></th>\n",
       "      <th></th>\n",
       "      <th></th>\n",
       "    </tr>\n",
       "  </thead>\n",
       "  <tbody>\n",
       "    <tr>\n",
       "      <th>0</th>\n",
       "      <td>Is Hirschsprung disease a mendelian or a multi...</td>\n",
       "      <td>Coding sequence mutations in RET, GDNF, EDNRB,...</td>\n",
       "      <td>[20598273, 6650562, 15829955, 15617541, 230011...</td>\n",
       "    </tr>\n",
       "    <tr>\n",
       "      <th>1</th>\n",
       "      <td>List signaling molecules (ligands) that intera...</td>\n",
       "      <td>The 7 known EGFR ligands  are: epidermal growt...</td>\n",
       "      <td>[23821377, 24323361, 23382875, 22247333, 23787...</td>\n",
       "    </tr>\n",
       "    <tr>\n",
       "      <th>2</th>\n",
       "      <td>Is the protein Papilin secreted?</td>\n",
       "      <td>Yes,  papilin is a secreted protein</td>\n",
       "      <td>[21784067, 19297413, 15094122, 7515725, 332004...</td>\n",
       "    </tr>\n",
       "    <tr>\n",
       "      <th>3</th>\n",
       "      <td>Are long non coding RNAs spliced?</td>\n",
       "      <td>Long non coding RNAs appear to be spliced thro...</td>\n",
       "      <td>[22955974, 21622663, 22707570, 22955988, 24285...</td>\n",
       "    </tr>\n",
       "    <tr>\n",
       "      <th>4</th>\n",
       "      <td>Is RANKL secreted from the cells?</td>\n",
       "      <td>Receptor activator of nuclear factor κB ligand...</td>\n",
       "      <td>[22867712, 23827649, 21618594, 23835909, 24265...</td>\n",
       "    </tr>\n",
       "  </tbody>\n",
       "</table>\n",
       "</div>"
      ],
      "text/plain": [
       "                                             question  \\\n",
       "id                                                      \n",
       "0   Is Hirschsprung disease a mendelian or a multi...   \n",
       "1   List signaling molecules (ligands) that intera...   \n",
       "2                    Is the protein Papilin secreted?   \n",
       "3                   Are long non coding RNAs spliced?   \n",
       "4                   Is RANKL secreted from the cells?   \n",
       "\n",
       "                                               answer  \\\n",
       "id                                                      \n",
       "0   Coding sequence mutations in RET, GDNF, EDNRB,...   \n",
       "1   The 7 known EGFR ligands  are: epidermal growt...   \n",
       "2                 Yes,  papilin is a secreted protein   \n",
       "3   Long non coding RNAs appear to be spliced thro...   \n",
       "4   Receptor activator of nuclear factor κB ligand...   \n",
       "\n",
       "                                 relevant_passage_ids  \n",
       "id                                                     \n",
       "0   [20598273, 6650562, 15829955, 15617541, 230011...  \n",
       "1   [23821377, 24323361, 23382875, 22247333, 23787...  \n",
       "2   [21784067, 19297413, 15094122, 7515725, 332004...  \n",
       "3   [22955974, 21622663, 22707570, 22955988, 24285...  \n",
       "4   [22867712, 23827649, 21618594, 23835909, 24265...  "
      ]
     },
     "execution_count": 2,
     "metadata": {},
     "output_type": "execute_result"
    }
   ],
   "source": [
    "test.head()"
   ]
  },
  {
   "cell_type": "code",
   "execution_count": 3,
   "id": "dc063785-8ae4-46c2-9c50-41980277f60c",
   "metadata": {},
   "outputs": [
    {
     "name": "stdout",
     "output_type": "stream",
     "text": [
      "\n",
      "Cluster 0:\n",
      "['Is Hirschsprung disease a mendelian or a multifactorial disorder?', 'Is the protein Papilin secreted?', 'Are long non coding RNAs spliced?']\n",
      "\n",
      "Cluster 1:\n",
      "['List signaling molecules (ligands) that interact with the receptor EGFR?', 'List the human genes encoding for the dishevelled proteins?', 'List the endoscopic diagnoses that have been reported in children with autism']\n",
      "\n",
      "Cluster 2:\n",
      "['Is Alu hypomethylation associated with breast cancer?', 'List Hemolytic Uremic Syndrome Triad.', 'Is irritable bowel syndrome more common in women with endometriosis?']\n"
     ]
    }
   ],
   "source": [
    "from sklearn.feature_extraction.text import TfidfVectorizer\n",
    "from sklearn.cluster import KMeans\n",
    "import numpy as np\n",
    "\n",
    "questions = test[\"question\"].tolist()\n",
    "\n",
    "vectorizer = TfidfVectorizer(stop_words='english')\n",
    "X = vectorizer.fit_transform(questions)\n",
    "\n",
    "n_clusters = 3\n",
    "\n",
    "kmeans = KMeans(n_clusters=n_clusters, random_state=42)\n",
    "kmeans.fit(X)\n",
    "\n",
    "test['cluster'] = kmeans.labels_\n",
    "\n",
    "# Print a few examples\n",
    "for i in range(n_clusters):\n",
    "    cluster_questions = test[test['cluster'] == i]['question'].tolist()\n",
    "    print(f\"\\nCluster {i}:\")\n",
    "    print(cluster_questions[:3])  # Print first 3 questions in each cluster"
   ]
  },
  {
   "cell_type": "code",
   "execution_count": 4,
   "id": "7df1136d-d2a3-491c-9d2c-160eedfc9a5d",
   "metadata": {},
   "outputs": [
    {
     "data": {
      "text/html": [
       "<div>\n",
       "<style scoped>\n",
       "    .dataframe tbody tr th:only-of-type {\n",
       "        vertical-align: middle;\n",
       "    }\n",
       "\n",
       "    .dataframe tbody tr th {\n",
       "        vertical-align: top;\n",
       "    }\n",
       "\n",
       "    .dataframe thead th {\n",
       "        text-align: right;\n",
       "    }\n",
       "</style>\n",
       "<table border=\"1\" class=\"dataframe\">\n",
       "  <thead>\n",
       "    <tr style=\"text-align: right;\">\n",
       "      <th></th>\n",
       "      <th>id</th>\n",
       "      <th>passage</th>\n",
       "    </tr>\n",
       "  </thead>\n",
       "  <tbody>\n",
       "    <tr>\n",
       "      <th>0</th>\n",
       "      <td>9797</td>\n",
       "      <td>New data on viruses isolated from patients wit...</td>\n",
       "    </tr>\n",
       "    <tr>\n",
       "      <th>1</th>\n",
       "      <td>11906</td>\n",
       "      <td>We describe an improved method for detecting d...</td>\n",
       "    </tr>\n",
       "    <tr>\n",
       "      <th>2</th>\n",
       "      <td>16083</td>\n",
       "      <td>We have studied the effects of curare on respo...</td>\n",
       "    </tr>\n",
       "    <tr>\n",
       "      <th>3</th>\n",
       "      <td>23188</td>\n",
       "      <td>Kinetic and electrophoretic properties of 230-...</td>\n",
       "    </tr>\n",
       "    <tr>\n",
       "      <th>4</th>\n",
       "      <td>23469</td>\n",
       "      <td>Male Wistar specific-pathogen-free rats aged 2...</td>\n",
       "    </tr>\n",
       "  </tbody>\n",
       "</table>\n",
       "</div>"
      ],
      "text/plain": [
       "      id                                            passage\n",
       "0   9797  New data on viruses isolated from patients wit...\n",
       "1  11906  We describe an improved method for detecting d...\n",
       "2  16083  We have studied the effects of curare on respo...\n",
       "3  23188  Kinetic and electrophoretic properties of 230-...\n",
       "4  23469  Male Wistar specific-pathogen-free rats aged 2..."
      ]
     },
     "execution_count": 4,
     "metadata": {},
     "output_type": "execute_result"
    }
   ],
   "source": [
    "passages.reset_index(inplace=True)\n",
    "passages.head()"
   ]
  },
  {
   "cell_type": "code",
   "execution_count": 5,
   "id": "a38fad11-c8dd-49a1-ba01-355946d539ae",
   "metadata": {},
   "outputs": [],
   "source": [
    "test = test[test['relevant_passage_ids'].apply(lambda x: len(x) > 0 and all(id != 0 for id in x))]"
   ]
  },
  {
   "cell_type": "code",
   "execution_count": 8,
   "id": "10304e76-698e-4ce1-8396-079631c913fa",
   "metadata": {},
   "outputs": [
    {
     "name": "stdout",
     "output_type": "stream",
     "text": [
      "Clustering questions...\n",
      "Calculating weights for each cluster...\n"
     ]
    },
    {
     "data": {
      "application/vnd.jupyter.widget-view+json": {
       "model_id": "8da71966f4694fefbbfd2faa4806d4b6",
       "version_major": 2,
       "version_minor": 0
      },
      "text/plain": [
       "Processing clusters:   0%|          | 0/5 [00:00<?, ?it/s]"
      ]
     },
     "metadata": {},
     "output_type": "display_data"
    },
    {
     "data": {
      "application/vnd.jupyter.widget-view+json": {
       "model_id": "6653a10de5824662b9ef3cdf826baf4a",
       "version_major": 2,
       "version_minor": 0
      },
      "text/plain": [
       "Calculating correlations:   0%|          | 0/2829 [00:00<?, ?it/s]"
      ]
     },
     "metadata": {},
     "output_type": "display_data"
    },
    {
     "name": "stderr",
     "output_type": "stream",
     "text": [
      "/var/folders/b8/d99g28z55kn487jcdps44ry00000gn/T/ipykernel_32264/2473275466.py:27: ConstantInputWarning: An input array is constant; the correlation coefficient is not defined.\n",
      "  corr, _ = pearsonr(dim_values, similarities)\n"
     ]
    },
    {
     "data": {
      "application/vnd.jupyter.widget-view+json": {
       "model_id": "9d6db0205eac461a9f258b8ff5905a3a",
       "version_major": 2,
       "version_minor": 0
      },
      "text/plain": [
       "Calculating correlations:   0%|          | 0/280 [00:00<?, ?it/s]"
      ]
     },
     "metadata": {},
     "output_type": "display_data"
    },
    {
     "data": {
      "application/vnd.jupyter.widget-view+json": {
       "model_id": "c30dd30301e24bc99f416ccafaeadcfd",
       "version_major": 2,
       "version_minor": 0
      },
      "text/plain": [
       "Calculating correlations:   0%|          | 0/352 [00:00<?, ?it/s]"
      ]
     },
     "metadata": {},
     "output_type": "display_data"
    },
    {
     "data": {
      "application/vnd.jupyter.widget-view+json": {
       "model_id": "d114bd21009b497a85256a1a509e9f77",
       "version_major": 2,
       "version_minor": 0
      },
      "text/plain": [
       "Calculating correlations:   0%|          | 0/193 [00:00<?, ?it/s]"
      ]
     },
     "metadata": {},
     "output_type": "display_data"
    },
    {
     "data": {
      "application/vnd.jupyter.widget-view+json": {
       "model_id": "d76f6ca7184b442f83edabd83609faaa",
       "version_major": 2,
       "version_minor": 0
      },
      "text/plain": [
       "Calculating correlations:   0%|          | 0/119 [00:00<?, ?it/s]"
      ]
     },
     "metadata": {},
     "output_type": "display_data"
    },
    {
     "name": "stdout",
     "output_type": "stream",
     "text": [
      "Performing weighted cosine search on test data...\n"
     ]
    },
    {
     "data": {
      "application/vnd.jupyter.widget-view+json": {
       "model_id": "26a275269ef74e938542bd73635518d8",
       "version_major": 2,
       "version_minor": 0
      },
      "text/plain": [
       "Weighted search:   0%|          | 0/944 [00:00<?, ?it/s]"
      ]
     },
     "metadata": {},
     "output_type": "display_data"
    },
    {
     "name": "stdout",
     "output_type": "stream",
     "text": [
      "Performing normal cosine search on test data...\n"
     ]
    },
    {
     "data": {
      "application/vnd.jupyter.widget-view+json": {
       "model_id": "a31163c6a0de44dab48b9ac34db41c32",
       "version_major": 2,
       "version_minor": 0
      },
      "text/plain": [
       "Normal search:   0%|          | 0/944 [00:00<?, ?it/s]"
      ]
     },
     "metadata": {},
     "output_type": "display_data"
    },
    {
     "name": "stdout",
     "output_type": "stream",
     "text": [
      "Evaluating results...\n",
      "Weighted Cosine Search Accuracy: 0.2420\n",
      "Normal Cosine Search Accuracy: 0.2427\n"
     ]
    }
   ],
   "source": [
    "import pandas as pd\n",
    "import numpy as np\n",
    "from sklearn.feature_extraction.text import TfidfVectorizer\n",
    "from sklearn.metrics.pairwise import cosine_similarity\n",
    "from sklearn.cluster import KMeans\n",
    "from scipy.stats import pearsonr\n",
    "from tqdm.notebook import tqdm\n",
    "\n",
    "def cluster_questions(questions, n_clusters=5):\n",
    "    vectorizer = TfidfVectorizer(stop_words='english')\n",
    "    X = vectorizer.fit_transform(questions)\n",
    "    kmeans = KMeans(n_clusters=n_clusters, random_state=42)\n",
    "    return kmeans.fit_predict(X)\n",
    "\n",
    "def calculate_dimension_correlations(question, answer, relevant_passages, vectorizer):\n",
    "    question_vec = vectorizer.transform([question])\n",
    "    passage_vecs = vectorizer.transform(relevant_passages)\n",
    "    \n",
    "    similarities = cosine_similarity(question_vec, passage_vecs)[0]\n",
    "    \n",
    "    correlations = []\n",
    "    for dim in range(passage_vecs.shape[1]):\n",
    "        dim_values = passage_vecs[:, dim].toarray().flatten()\n",
    "        if np.std(dim_values) == 0:  # Skip constant dimensions\n",
    "            correlations.append(0)\n",
    "        else:\n",
    "            corr, _ = pearsonr(dim_values, similarities)\n",
    "            correlations.append(corr if not np.isnan(corr) else 0)\n",
    "    \n",
    "    return correlations\n",
    "\n",
    "def calculate_cluster_weights(cluster_data, passages, vectorizer):\n",
    "    all_correlations = []\n",
    "    \n",
    "    for _, row in tqdm(cluster_data.iterrows(), total=len(cluster_data), desc=\"Calculating correlations\"):\n",
    "        question = row['question']\n",
    "        answer = row['answer']\n",
    "        relevant_ids = eval(row['relevant_passage_ids'])\n",
    "        relevant_passages = passages[passages['id'].isin(relevant_ids)]['passage']\n",
    "        \n",
    "        if len(relevant_passages) < 2:\n",
    "            continue  # Skip if there's not enough data\n",
    "        \n",
    "        correlations = calculate_dimension_correlations(question, answer, relevant_passages, vectorizer)\n",
    "        all_correlations.append(correlations)\n",
    "    \n",
    "    mean_correlations = np.mean(all_correlations, axis=0)\n",
    "    weights = (mean_correlations - np.min(mean_correlations)) / (np.max(mean_correlations) - np.min(mean_correlations))\n",
    "    return weights\n",
    "\n",
    "def weighted_cosine_search(question, passages, weights, vectorizer, top_k=5):\n",
    "    question_vec = vectorizer.transform([question])\n",
    "    passage_vecs = vectorizer.transform(passages['passage'])\n",
    "    \n",
    "    weighted_passage_vecs = passage_vecs.multiply(weights)\n",
    "    \n",
    "    similarities = cosine_similarity(question_vec, weighted_passage_vecs)[0]\n",
    "    top_indices = np.argsort(similarities)[::-1][:top_k]\n",
    "    \n",
    "    return passages['id'].iloc[top_indices].tolist()\n",
    "\n",
    "def evaluate_search(predicted_ids, true_ids):\n",
    "    correct = 0\n",
    "    total = 0\n",
    "    for pred, true in zip(predicted_ids, true_ids):\n",
    "        correct += len(set(pred) & set(true))\n",
    "        total += len(true)\n",
    "    return correct / total\n",
    "\n",
    "# Main process\n",
    "n_clusters = 5\n",
    "train_ratio = 0.8\n",
    "\n",
    "print(\"Clustering questions...\")\n",
    "test['cluster'] = cluster_questions(test['question'], n_clusters)\n",
    "\n",
    "print(\"Calculating weights for each cluster...\")\n",
    "cluster_weights = {}\n",
    "vectorizer = TfidfVectorizer(stop_words='english')\n",
    "vectorizer.fit(passages['passage'])\n",
    "\n",
    "for cluster in tqdm(range(n_clusters), desc=\"Processing clusters\"):\n",
    "    cluster_data = test[test['cluster'] == cluster]\n",
    "    train_size = int(len(cluster_data) * train_ratio)\n",
    "    \n",
    "    train_data = cluster_data.iloc[:train_size]\n",
    "    weights = calculate_cluster_weights(train_data, passages, vectorizer)\n",
    "    cluster_weights[cluster] = weights\n",
    "\n",
    "print(\"Performing weighted cosine search on test data...\")\n",
    "test_data = test.iloc[int(len(test) * train_ratio):]\n",
    "weighted_results = []\n",
    "\n",
    "for _, row in tqdm(test_data.iterrows(), total=len(test_data), desc=\"Weighted search\"):\n",
    "    question = row['question']\n",
    "    cluster = row['cluster']\n",
    "    weights = cluster_weights[cluster]\n",
    "    result = weighted_cosine_search(question, passages, weights, vectorizer)\n",
    "    weighted_results.append(result)\n",
    "\n",
    "print(\"Performing normal cosine search on test data...\")\n",
    "normal_results = []\n",
    "for question in tqdm(test_data['question'], desc=\"Normal search\"):\n",
    "    result = weighted_cosine_search(question, passages, np.ones(vectorizer.get_feature_names_out().shape[0]), vectorizer)\n",
    "    normal_results.append(result)\n",
    "\n",
    "print(\"Evaluating results...\")\n",
    "true_ids = test_data['relevant_passage_ids'].apply(eval).tolist()\n",
    "weighted_accuracy = evaluate_search(weighted_results, true_ids)\n",
    "normal_accuracy = evaluate_search(normal_results, true_ids)\n",
    "\n",
    "print(f\"Weighted Cosine Search Accuracy: {weighted_accuracy:.4f}\")\n",
    "print(f\"Normal Cosine Search Accuracy: {normal_accuracy:.4f}\")"
   ]
  },
  {
   "cell_type": "code",
   "execution_count": null,
   "id": "e2f9a608-42e7-4678-bd1e-b15f21bbef34",
   "metadata": {},
   "outputs": [],
   "source": [
    "passages.columns"
   ]
  },
  {
   "cell_type": "code",
   "execution_count": null,
   "id": "4403e3ae-b680-4dd9-a028-cc891fd3759b",
   "metadata": {},
   "outputs": [],
   "source": []
  },
  {
   "cell_type": "code",
   "execution_count": null,
   "id": "77f35228-f782-4c49-a040-9c1585dc063e",
   "metadata": {},
   "outputs": [],
   "source": []
  },
  {
   "cell_type": "code",
   "execution_count": null,
   "id": "2198d295-cda7-4658-8750-a0a803612320",
   "metadata": {},
   "outputs": [],
   "source": []
  },
  {
   "cell_type": "code",
   "execution_count": null,
   "id": "fd57bd9d-0e37-46a7-b711-527b639c5755",
   "metadata": {},
   "outputs": [],
   "source": []
  }
 ],
 "metadata": {
  "kernelspec": {
   "display_name": "Python 3 (ipykernel)",
   "language": "python",
   "name": "python3"
  },
  "language_info": {
   "codemirror_mode": {
    "name": "ipython",
    "version": 3
   },
   "file_extension": ".py",
   "mimetype": "text/x-python",
   "name": "python",
   "nbconvert_exporter": "python",
   "pygments_lexer": "ipython3",
   "version": "3.9.6"
  }
 },
 "nbformat": 4,
 "nbformat_minor": 5
}
